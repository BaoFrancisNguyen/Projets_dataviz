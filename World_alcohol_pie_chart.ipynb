{
 "cells": [
  {
   "cell_type": "code",
   "execution_count": 90,
   "metadata": {},
   "outputs": [],
   "source": [
    "import numpy as np\n",
    "world_alcohol = np.genfromtxt(\"/home/francis/Téléchargements/world_alcohol.csv\", delimiter=',') #téléchargement du fichier csv"
   ]
  },
  {
   "cell_type": "code",
   "execution_count": 5,
   "metadata": {},
   "outputs": [
    {
     "name": "stdout",
     "output_type": "stream",
     "text": [
      "<class 'numpy.ndarray'>\n"
     ]
    }
   ],
   "source": [
    "print(type(world_alcohol))"
   ]
  },
  {
   "cell_type": "code",
   "execution_count": 7,
   "metadata": {},
   "outputs": [
    {
     "name": "stdout",
     "output_type": "stream",
     "text": [
      "float64\n"
     ]
    }
   ],
   "source": [
    "print(world_alcohol.dtype)"
   ]
  },
  {
   "cell_type": "code",
   "execution_count": 8,
   "metadata": {},
   "outputs": [
    {
     "data": {
      "text/plain": [
       "array([[      nan,       nan,       nan,       nan,       nan],\n",
       "       [1.986e+03,       nan,       nan,       nan, 0.000e+00],\n",
       "       [1.986e+03,       nan,       nan,       nan, 5.000e-01],\n",
       "       ...,\n",
       "       [1.986e+03,       nan,       nan,       nan, 2.540e+00],\n",
       "       [1.987e+03,       nan,       nan,       nan, 0.000e+00],\n",
       "       [1.986e+03,       nan,       nan,       nan, 5.150e+00]])"
      ]
     },
     "execution_count": 8,
     "metadata": {},
     "output_type": "execute_result"
    }
   ],
   "source": [
    "world_alcohol"
   ]
  },
  {
   "cell_type": "code",
   "execution_count": 91,
   "metadata": {},
   "outputs": [],
   "source": [
    "import numpy as np\n",
    "# ajout du parametre dtype = U75 pour affichage comprehensible\n",
    "world_alcohol = np.genfromtxt(\"/home/francis/Téléchargements/world_alcohol.csv\", delimiter=',', dtype = \"U75\")"
   ]
  },
  {
   "cell_type": "code",
   "execution_count": 92,
   "metadata": {},
   "outputs": [
    {
     "data": {
      "text/plain": [
       "array([['Year', 'WHO region', 'Country', 'Beverage Types',\n",
       "        'Display Value'],\n",
       "       ['1986', 'Western Pacific', 'Viet Nam', 'Wine', '0'],\n",
       "       ['1986', 'Americas', 'Uruguay', 'Other', '0.5'],\n",
       "       ...,\n",
       "       ['1986', 'Europe', 'Switzerland', 'Spirits', '2.54'],\n",
       "       ['1987', 'Western Pacific', 'Papua New Guinea', 'Other', '0'],\n",
       "       ['1986', 'Africa', 'Swaziland', 'Other', '5.15']], dtype='<U75')"
      ]
     },
     "execution_count": 92,
     "metadata": {},
     "output_type": "execute_result"
    }
   ],
   "source": [
    "world_alcohol"
   ]
  },
  {
   "cell_type": "code",
   "execution_count": 93,
   "metadata": {},
   "outputs": [
    {
     "data": {
      "text/plain": [
       "array([['1986', 'Western Pacific', 'Viet Nam', 'Wine', '0'],\n",
       "       ['1986', 'Americas', 'Uruguay', 'Other', '0.5'],\n",
       "       ['1985', 'Africa', \"Cte d'Ivoire\", 'Wine', '1.62'],\n",
       "       ...,\n",
       "       ['1986', 'Europe', 'Switzerland', 'Spirits', '2.54'],\n",
       "       ['1987', 'Western Pacific', 'Papua New Guinea', 'Other', '0'],\n",
       "       ['1986', 'Africa', 'Swaziland', 'Other', '5.15']], dtype='<U75')"
      ]
     },
     "execution_count": 93,
     "metadata": {},
     "output_type": "execute_result"
    }
   ],
   "source": [
    "#pour faire des opérations, on supprime l'entête avec le parametre skip_header=1\n",
    "world_alcohol = np.genfromtxt(\"/home/francis/Téléchargements/world_alcohol.csv\", delimiter=',', dtype = \"U75\", skip_header=1)\n",
    "world_alcohol"
   ]
  },
  {
   "cell_type": "code",
   "execution_count": 94,
   "metadata": {},
   "outputs": [
    {
     "name": "stdout",
     "output_type": "stream",
     "text": [
      "[['1984' 'Africa' 'Nigeria' 'Other' '6.1']\n",
      " ['1984' 'Eastern Mediterranean' 'Afghanistan' 'Other' '0']\n",
      " ['1984' 'Americas' 'Costa Rica' 'Wine' '0.06']\n",
      " ...\n",
      " ['1984' 'Europe' 'Latvia' 'Spirits' '7.5']\n",
      " ['1984' 'Africa' 'Angola' 'Wine' '0.57']\n",
      " ['1984' 'Africa' 'Central African Republic' 'Wine' '0.46']]\n"
     ]
    }
   ],
   "source": [
    "years_is_1984 = world_alcohol[:,0] == '1984'\n",
    "years_1984 = world_alcohol[years_is_1984]\n",
    "print(years_1984)"
   ]
  },
  {
   "cell_type": "code",
   "execution_count": 73,
   "metadata": {},
   "outputs": [
    {
     "name": "stdout",
     "output_type": "stream",
     "text": [
      "[['1986' 'Western Pacific' 'Viet Nam' 'Wine' '0']\n",
      " ['1985' 'Africa' \"Cte d'Ivoire\" 'Wine' '1.62']\n",
      " ['1987' 'Africa' 'Mauritius' 'Wine' '0.13']\n",
      " ...\n",
      " ['1985' 'Europe' 'Slovakia' 'Wine' '2.6']\n",
      " ['1984' 'Africa' 'Angola' 'Wine' '0.57']\n",
      " ['1984' 'Africa' 'Central African Republic' 'Wine' '0.46']]\n"
     ]
    }
   ],
   "source": [
    "df_wine = world_alcohol[:,3] == 'Wine'\n",
    "dfwine = world_alcohol[df_wine]\n",
    "print(dfwine)"
   ]
  },
  {
   "cell_type": "code",
   "execution_count": 95,
   "metadata": {},
   "outputs": [
    {
     "data": {
      "text/html": [
       "<div>\n",
       "<style scoped>\n",
       "    .dataframe tbody tr th:only-of-type {\n",
       "        vertical-align: middle;\n",
       "    }\n",
       "\n",
       "    .dataframe tbody tr th {\n",
       "        vertical-align: top;\n",
       "    }\n",
       "\n",
       "    .dataframe thead th {\n",
       "        text-align: right;\n",
       "    }\n",
       "</style>\n",
       "<table border=\"1\" class=\"dataframe\">\n",
       "  <thead>\n",
       "    <tr style=\"text-align: right;\">\n",
       "      <th></th>\n",
       "      <th>years</th>\n",
       "      <th>continent</th>\n",
       "      <th>country</th>\n",
       "      <th>type_of_alcohol</th>\n",
       "      <th>liters</th>\n",
       "    </tr>\n",
       "  </thead>\n",
       "  <tbody>\n",
       "    <tr>\n",
       "      <th>0</th>\n",
       "      <td>1986</td>\n",
       "      <td>Western Pacific</td>\n",
       "      <td>Viet Nam</td>\n",
       "      <td>Wine</td>\n",
       "      <td>0</td>\n",
       "    </tr>\n",
       "    <tr>\n",
       "      <th>1</th>\n",
       "      <td>1985</td>\n",
       "      <td>Africa</td>\n",
       "      <td>Cte d'Ivoire</td>\n",
       "      <td>Wine</td>\n",
       "      <td>1.62</td>\n",
       "    </tr>\n",
       "    <tr>\n",
       "      <th>2</th>\n",
       "      <td>1987</td>\n",
       "      <td>Africa</td>\n",
       "      <td>Mauritius</td>\n",
       "      <td>Wine</td>\n",
       "      <td>0.13</td>\n",
       "    </tr>\n",
       "    <tr>\n",
       "      <th>3</th>\n",
       "      <td>1987</td>\n",
       "      <td>Africa</td>\n",
       "      <td>Botswana</td>\n",
       "      <td>Wine</td>\n",
       "      <td>0.2</td>\n",
       "    </tr>\n",
       "    <tr>\n",
       "      <th>4</th>\n",
       "      <td>1987</td>\n",
       "      <td>Africa</td>\n",
       "      <td>Guinea-Bissau</td>\n",
       "      <td>Wine</td>\n",
       "      <td>0.07</td>\n",
       "    </tr>\n",
       "    <tr>\n",
       "      <th>...</th>\n",
       "      <td>...</td>\n",
       "      <td>...</td>\n",
       "      <td>...</td>\n",
       "      <td>...</td>\n",
       "      <td>...</td>\n",
       "    </tr>\n",
       "    <tr>\n",
       "      <th>811</th>\n",
       "      <td>1984</td>\n",
       "      <td>Western Pacific</td>\n",
       "      <td>Fiji</td>\n",
       "      <td>Wine</td>\n",
       "      <td>0.13</td>\n",
       "    </tr>\n",
       "    <tr>\n",
       "      <th>812</th>\n",
       "      <td>1984</td>\n",
       "      <td>Eastern Mediterranean</td>\n",
       "      <td>Djibouti</td>\n",
       "      <td>Wine</td>\n",
       "      <td>0.51</td>\n",
       "    </tr>\n",
       "    <tr>\n",
       "      <th>813</th>\n",
       "      <td>1985</td>\n",
       "      <td>Europe</td>\n",
       "      <td>Slovakia</td>\n",
       "      <td>Wine</td>\n",
       "      <td>2.6</td>\n",
       "    </tr>\n",
       "    <tr>\n",
       "      <th>814</th>\n",
       "      <td>1984</td>\n",
       "      <td>Africa</td>\n",
       "      <td>Angola</td>\n",
       "      <td>Wine</td>\n",
       "      <td>0.57</td>\n",
       "    </tr>\n",
       "    <tr>\n",
       "      <th>815</th>\n",
       "      <td>1984</td>\n",
       "      <td>Africa</td>\n",
       "      <td>Central African Republic</td>\n",
       "      <td>Wine</td>\n",
       "      <td>0.46</td>\n",
       "    </tr>\n",
       "  </tbody>\n",
       "</table>\n",
       "<p>816 rows × 5 columns</p>\n",
       "</div>"
      ],
      "text/plain": [
       "    years              continent                   country type_of_alcohol  \\\n",
       "0    1986        Western Pacific                  Viet Nam            Wine   \n",
       "1    1985                 Africa              Cte d'Ivoire            Wine   \n",
       "2    1987                 Africa                 Mauritius            Wine   \n",
       "3    1987                 Africa                  Botswana            Wine   \n",
       "4    1987                 Africa             Guinea-Bissau            Wine   \n",
       "..    ...                    ...                       ...             ...   \n",
       "811  1984        Western Pacific                      Fiji            Wine   \n",
       "812  1984  Eastern Mediterranean                  Djibouti            Wine   \n",
       "813  1985                 Europe                  Slovakia            Wine   \n",
       "814  1984                 Africa                    Angola            Wine   \n",
       "815  1984                 Africa  Central African Republic            Wine   \n",
       "\n",
       "    liters  \n",
       "0        0  \n",
       "1     1.62  \n",
       "2     0.13  \n",
       "3      0.2  \n",
       "4     0.07  \n",
       "..     ...  \n",
       "811   0.13  \n",
       "812   0.51  \n",
       "813    2.6  \n",
       "814   0.57  \n",
       "815   0.46  \n",
       "\n",
       "[816 rows x 5 columns]"
      ]
     },
     "execution_count": 95,
     "metadata": {},
     "output_type": "execute_result"
    }
   ],
   "source": [
    "import pandas as pd\n",
    "df_wines = pd.DataFrame(dfwine) #convertion en dataframe\n",
    "headers = [\"years\", \"continent\",\"country\", \"type_of_alcohol\", \"liters\"] # définition de l'entête\n",
    "df_wines.columns = headers # ajout de l'entête\n",
    "df_wines\n"
   ]
  },
  {
   "cell_type": "code",
   "execution_count": 96,
   "metadata": {},
   "outputs": [
    {
     "data": {
      "image/png": "[encoded data removed]",
      "text/plain": [
       "<Figure size 432x288 with 1 Axes>"
      ]
     },
     "metadata": {},
     "output_type": "display_data"
    }
   ],
   "source": [
    "\n",
    "import matplotlib.pyplot as plt\n",
    "df_wines['liters'] = pd.to_numeric(df['liters'], errors ='coerce') #convertir les str en float\n",
    "df_wines_country = df_wines.groupby('continent', axis=0).sum() #création du camembert\n",
    "df_wines_country['liters'].plot(kind='pie')\n",
    "plt.title('Répartition de la Consommation mondiale de vin de 1985 à 1989')\n",
    "plt.show()"
   ]
  },
  {
   "cell_type": "code",
   "execution_count": null,
   "metadata": {},
   "outputs": [],
   "source": []
  }
 ],
 "metadata": {
  "kernelspec": {
   "display_name": "Python 3",
   "language": "python",
   "name": "python3"
  },
  "language_info": {
   "codemirror_mode": {
    "name": "ipython",
    "version": 3
   },
   "file_extension": ".py",
   "mimetype": "text/x-python",
   "name": "python",
   "nbconvert_exporter": "python",
   "pygments_lexer": "ipython3",
   "version": "3.6.9"
  }
 },
 "nbformat": 4,
 "nbformat_minor": 2
}
