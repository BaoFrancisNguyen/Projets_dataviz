{
 "cells": [
  {
   "cell_type": "markdown",
   "metadata": {},
   "source": [
    "###Requête API###"
   ]
  },
  {
   "cell_type": "code",
   "execution_count": 2,
   "metadata": {},
   "outputs": [],
   "source": [
    "import requests"
   ]
  },
  {
   "cell_type": "code",
   "execution_count": 3,
   "metadata": {},
   "outputs": [],
   "source": [
    "#requête GET pour obtenir la dernière position de la station ISS depuis l'API OpenNotify, la NASA a mis l'information en opensource.\n",
    "response = requests.get(\"http://api.open-notify.org/iss-now.json\") \n",
    "#adresse API / point d'accès ou endpoint qui donne accès à la localisation de la station ISS lattitude et longitude\n"
   ]
  },
  {
   "cell_type": "code",
   "execution_count": 4,
   "metadata": {},
   "outputs": [
    {
     "data": {
      "text/plain": [
       "<Response [200]>"
      ]
     },
     "execution_count": 4,
     "metadata": {},
     "output_type": "execute_result"
    }
   ],
   "source": [
    "response"
   ]
  },
  {
   "cell_type": "markdown",
   "metadata": {},
   "source": [
    "code status\n",
    "200 = réussite, le serveur retourne le résultat demandé\n",
    "301 = le serveur redirige vers un autre paramètre\n",
    "400 = mauvaises requêtes"
   ]
  },
  {
   "cell_type": "code",
   "execution_count": 5,
   "metadata": {},
   "outputs": [],
   "source": [
    "# On va définir le passage de la station au dessus de la ville de Paris. Pour cela on va définir parameters pour la lat et lon de Paris.\n",
    "\n",
    "Parameters = {\"lat\": 48.87, \"lon\": 2.33}"
   ]
  },
  {
   "cell_type": "code",
   "execution_count": 7,
   "metadata": {},
   "outputs": [],
   "source": [
    "response = requests.get(\"http://api.open-notify.org/iss-pass.json\", params=Parameters)"
   ]
  },
  {
   "cell_type": "code",
   "execution_count": 8,
   "metadata": {},
   "outputs": [
    {
     "name": "stdout",
     "output_type": "stream",
     "text": [
      "b'{\\n  \"message\": \"success\", \\n  \"request\": {\\n    \"altitude\": 100, \\n    \"datetime\": 1658260170, \\n    \"latitude\": 48.87, \\n    \"longitude\": 2.33, \\n    \"passes\": 5\\n  }, \\n  \"response\": [\\n    {\\n      \"duration\": 653, \\n      \"risetime\": 1658271200\\n    }, \\n    {\\n      \"duration\": 624, \\n      \"risetime\": 1658277008\\n    }, \\n    {\\n      \"duration\": 379, \\n      \"risetime\": 1658282881\\n    }, \\n    {\\n      \"duration\": 526, \\n      \"risetime\": 1658337359\\n    }\\n  ]\\n}\\n'\n"
     ]
    }
   ],
   "source": [
    "content = response.content #on recupère le contenu\n",
    "print(content)"
   ]
  },
  {
   "cell_type": "markdown",
   "metadata": {},
   "source": [
    "pour que le résultat soit plus compréhensible, on va prendre directement les éléments en format json"
   ]
  },
  {
   "cell_type": "code",
   "execution_count": 16,
   "metadata": {},
   "outputs": [
    {
     "name": "stdout",
     "output_type": "stream",
     "text": [
      "<class 'dict'>\n"
     ]
    }
   ],
   "source": [
    "import json\n",
    "json_content = response.json()\n",
    "print(type(json_content))"
   ]
  },
  {
   "cell_type": "code",
   "execution_count": 17,
   "metadata": {},
   "outputs": [
    {
     "name": "stdout",
     "output_type": "stream",
     "text": [
      "{'message': 'success', 'request': {'altitude': 100, 'datetime': 1658260170, 'latitude': 48.87, 'longitude': 2.33, 'passes': 5}, 'response': [{'duration': 653, 'risetime': 1658271200}, {'duration': 624, 'risetime': 1658277008}, {'duration': 379, 'risetime': 1658282881}, {'duration': 526, 'risetime': 1658337359}]}\n"
     ]
    }
   ],
   "source": [
    "print(json_content)"
   ]
  },
  {
   "cell_type": "code",
   "execution_count": null,
   "metadata": {},
   "outputs": [],
   "source": []
  },
  {
   "cell_type": "markdown",
   "metadata": {},
   "source": []
  },
  {
   "cell_type": "code",
   "execution_count": null,
   "metadata": {},
   "outputs": [],
   "source": []
  },
  {
   "cell_type": "code",
   "execution_count": null,
   "metadata": {},
   "outputs": [],
   "source": []
  },
  {
   "cell_type": "code",
   "execution_count": null,
   "metadata": {},
   "outputs": [],
   "source": []
  },
  {
   "cell_type": "code",
   "execution_count": null,
   "metadata": {},
   "outputs": [],
   "source": []
  },
  {
   "cell_type": "code",
   "execution_count": null,
   "metadata": {},
   "outputs": [],
   "source": []
  },
  {
   "cell_type": "code",
   "execution_count": null,
   "metadata": {},
   "outputs": [],
   "source": []
  }
 ],
 "metadata": {
  "kernelspec": {
   "display_name": "Python 3",
   "language": "python",
   "name": "python3"
  },
  "language_info": {
   "codemirror_mode": {
    "name": "ipython",
    "version": 3
   },
   "file_extension": ".py",
   "mimetype": "text/x-python",
   "name": "python",
   "nbconvert_exporter": "python",
   "pygments_lexer": "ipython3",
   "version": "3.6.9"
  }
 },
 "nbformat": 4,
 "nbformat_minor": 2
}
